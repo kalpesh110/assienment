{
 "cells": [
  {
   "cell_type": "code",
   "execution_count": null,
   "id": "e9586e38",
   "metadata": {},
   "outputs": [],
   "source": [
    "# 1 why django  should be used for web-development ? explain how you can create a project in django?\n",
    "# ans: django is  a high-level python web framework that rapid development of secure and \n",
    "# manitainable websites. built by experienced developers . django takes care of much of the \n",
    "# hassle of web development , so you can focus on writing your app without needing to reivent the wheel.\n",
    "\n",
    "# for create a project in Django:\n",
    "# \" django-admin startproject Project_name\"\n"
   ]
  },
  {
   "cell_type": "code",
   "execution_count": null,
   "id": "fe983210",
   "metadata": {},
   "outputs": [],
   "source": [
    "#  2 how to check installed version of django?\n",
    "# ans : we have 2 method for check installed version of django\n",
    "# 1: \"python -m django --version of Django\"\n",
    "# 2:\"pip freeze\"\n"
   ]
  },
  {
   "cell_type": "code",
   "execution_count": null,
   "id": "b85bd83d",
   "metadata": {},
   "outputs": [],
   "source": [
    "# 3 mention what command line used to load data into django?\n",
    "# ans: to load into django we have to use the command line \n",
    "# \"Django-admin .py loaddataa\"\n",
    "# the command line will searches the data and loads the contents of the named fixtures into the database."
   ]
  },
  {
   "cell_type": "code",
   "execution_count": null,
   "id": "bd778015",
   "metadata": {},
   "outputs": [],
   "source": [
    "# 4 explain what does django-admin .py make message command is used for?\n",
    "# ans: Runs over the entire source tree of the current directory and pulls out all strings for translation .\n",
    "# It created (or updates) a message file in the \"Django tree \" or \"Project and application\" directory."
   ]
  },
  {
   "cell_type": "code",
   "execution_count": null,
   "id": "2ee6b1e4",
   "metadata": {},
   "outputs": [],
   "source": [
    "# 5 waht is django URLs? make program to create django urls?\n",
    "# In django views are python function which take URL request as parameter and return HTTP response or throw an exception  \n",
    "# like 404 .Each views need to be mapped to a corresponding URL pattern .this is done vis python module called URLconf\n",
    "#(URL configurations)\n",
    "\n",
    "# Ex\n",
    "# path(\"url_name/\",views.function_name,name=\"name\")\n",
    "# path(\"index/\",views.index,name=\"index\")\n",
    "\n",
    "\n",
    "# \"views(function[views.py])\"\n",
    "\n",
    "# def index(request):\n",
    "#      return render(request.\"index.html\")\n"
   ]
  },
  {
   "cell_type": "code",
   "execution_count": null,
   "id": "b9dc6c0b",
   "metadata": {},
   "outputs": [],
   "source": [
    "# 6 waht is querryset? write a program to create new post object in database?\n",
    "#  A q uuerryset of  from database a querryset is  biult up as a list of object .QuerrySets make it easier to get the data\n",
    "# you actully need ,by allowing us to filter and order the data:\n",
    "\n",
    "\n",
    "# create a post object in django models.py:-\n",
    "# class buyer(model.Model):\n",
    "      # first_name=models.CharField(max_length=30)\n",
    "     # last_name=models.CharField(max_length=30)\n",
    "     # address=models.TextField(max_length=150)\n",
    "    # email=models.EmailField(unique=True)\n",
    "    # mobile=models.CharField(max_length=30)\n",
    "   # password=models.CharField(max_length=30)\n",
    "   # pic=models.FileField(upload_to=\"profile/\",default=\"image.wrbp\")\n",
    "   # dob=models.DateField(null=True, blank=True)\n",
    "   # gender=models.CharField(max_length=20)\n",
    "\n",
    "    #  def "
   ]
  },
  {
   "cell_type": "code",
   "execution_count": null,
   "id": "26fc2d86",
   "metadata": {},
   "outputs": [],
   "source": [
    "# 6 waht is querryset? write a program to create new post object in database?\n",
    "#  A q uuerryset of  from database a querryset is  biult up as a list of object .QuerrySets make it easier to get the data\n",
    "# you actully need ,by allowing us to filter and order the data:\n",
    "\n",
    "\n",
    "# create a post object in django models.py:-\n",
    "# class buyer(model.Model):\n",
    "      # first_name=models.CharField(max_length=30)\n",
    "     # last_name=models.CharField(max_length=30)\n",
    "     # address=models.TextField(max_length=150)\n",
    "    # email=models.EmailField(unique=True)\n",
    "    # mobile=models.CharField(max_length=30)\n",
    "   # password=models.CharField(max_length=30)\n",
    "   # pic=models.FileField(upload_to=\"profile/\",default=\"image.wrbp\")\n",
    "   # dob=models.DateField(null=True, blank=True)\n",
    "   # gender=models.CharField(max_length=20)\n",
    "\n",
    "    #  def "
   ]
  },
  {
   "cell_type": "code",
   "execution_count": null,
   "id": "917d6120",
   "metadata": {},
   "outputs": [],
   "source": [
    "# 6 waht is querryset? write a program to create new post object in database?\n",
    "#  A q uuerryset of  from database a querryset is  biult up as a list of object .QuerrySets make it easier to get the data\n",
    "# you actully need ,by allowing us to filter and order the data:\n",
    "\n",
    "\n",
    "# create a post object in django models.py:-\n",
    "# class buyer(model.Model):\n",
    "      # first_name=models.CharField(max_length=30)\n",
    "     # last_name=models.CharField(max_length=30)\n",
    "     # address=models.TextField(max_length=150)\n",
    "    # email=models.EmailField(unique=True)\n",
    "    # mobile=models.CharField(max_length=30)\n",
    "   # password=models.CharField(max_length=30)\n",
    "   # pic=models.FileField(upload_to=\"profile/\",default=\"image.wrbp\")\n",
    "   # dob=models.DateField(null=True, blank=True)\n",
    "   # gender=models.CharField(max_length=20)\n",
    "\n",
    "    #  def _str_(sel)\n",
    "\n",
    "\n",
    "\n",
    "\n",
    "\n",
    "\n"
   ]
  }
 ],
 "metadata": {
  "kernelspec": {
   "display_name": "Python 3 (ipykernel)",
   "language": "python",
   "name": "python3"
  },
  "language_info": {
   "codemirror_mode": {
    "name": "ipython",
    "version": 3
   },
   "file_extension": ".py",
   "mimetype": "text/x-python",
   "name": "python",
   "nbconvert_exporter": "python",
   "pygments_lexer": "ipython3",
   "version": "3.9.12"
  }
 },
 "nbformat": 4,
 "nbformat_minor": 5
}
