{
 "cells": [
  {
   "cell_type": "code",
   "execution_count": null,
   "id": "fccb0ca7",
   "metadata": {},
   "outputs": [],
   "source": [
    "# 1what is File function in python?what is keywords to create and weite file\n",
    "## Python has a built-in open() to open a file. This function returns a file object aslo called a handle , as it is used to \n",
    "## to read or modify the file accordingly we can specify the mode while opening file.\n",
    "## First open the text file for writing (or append) using the open() Function,\n",
    "## for write we can use \"W\" method,\n",
    "## write to the text file using the write() or writeline() method,\n",
    "#3colse the file using the close() method"
   ]
  },
  {
   "cell_type": "code",
   "execution_count": null,
   "id": "6d6ee63a",
   "metadata": {},
   "outputs": [],
   "source": [
    "# 2 write a Python program to read an entire text file\n",
    "file1=open(\"C:\\\\Users\\\\kalpesh\\Desktop\\\\File_handing\\\\A.txt\",\"r\")\n",
    "r=file1.read()"
   ]
  },
  {
   "cell_type": "code",
   "execution_count": null,
   "id": "07968b83",
   "metadata": {},
   "outputs": [],
   "source": [
    "# 3 wrie a python program to read last n lines of a file.\n",
    "file1=open(\"C:\\\\sers\\\\alpesh\\\\esktop\\\\ile_handing\\\\A.txt,\"r\")\n",
    "file.seek(0)\n",
    "f=file.readline()\n",
    "print(f)\n",
    "file1.close()\n"
   ]
  },
  {
   "cell_type": "code",
   "execution_count": null,
   "id": "5400dbd4",
   "metadata": {},
   "outputs": [],
   "source": [
    "# 4 write a python program to read first n lines of a file\n",
    "file1=open(\"C:\\\\sers\\\\alpesh\\\\esktop\\\\ile_handing\\\\A.txt,\"r\")\n",
    "file1.seek(0)\n",
    "l=file.readline()\n",
    "print(s[-1])\n",
    "file1.close()\n"
   ]
  },
  {
   "cell_type": "code",
   "execution_count": null,
   "id": "686c687e",
   "metadata": {},
   "outputs": [],
   "source": [
    "# 5 write a python program to append text to a file and display the text\n",
    "file=open(\"C:\\\\sers\\\\alpesh\\\\esktop\\\\ile_handing\\\\A.txt\",\"a+\")\n",
    "single_line=input(\"enter a single line\")\n",
    "file.write(single_line)\n",
    "file.seek(0)\n",
    "s=file.read()\n",
    "print(s)\n",
    "file.close()"
   ]
  },
  {
   "cell_type": "code",
   "execution_count": null,
   "id": "c88430d1",
   "metadata": {},
   "outputs": [],
   "source": [
    "# 6 write a python program to read a file line by line it store  into a variable\n",
    "file=open(\"C:\\\\sers\\\\alpesh\\\\esktop\\\\ile_handing\\\\A.txt\",\"r+\"\")\n",
    "file.seek(0)\n",
    "s=file.read()\n",
    "list1.append(s)\n",
    "print(list1)\n",
    "file.close()\n"
   ]
  },
  {
   "cell_type": "code",
   "execution_count": null,
   "id": "f7917f2e",
   "metadata": {},
   "outputs": [],
   "source": [
    "# 7  wrie a python program to find the longest words.\n",
    "file=open(\"C:\\\\sers\\\\alpesh\\\\esktop\\\\ile_handing\\\\A.txt\",'r')\n",
    "s=file.read()\n",
    "x=s.split()\n",
    "Max=0\n",
    "for i in x:\n",
    "    if len(i)>Max:\n",
    "        Max=len(i)\n",
    "        Max_word=i\n",
    "print(' The max word in file is',max_word)\n",
    "file.close()"
   ]
  },
  {
   "cell_type": "code",
   "execution_count": null,
   "id": "b8771816",
   "metadata": {},
   "outputs": [],
   "source": [
    "# 8 write a python program to count the number of lines in a text file\n",
    "file=open(\"C:\\\\sers\\\\alpesh\\\\esktop\\\\ile_handing\\\\A.txt\",'r')\n",
    "s=(file.readlines())\n",
    "print(s)\n",
    "file.close()"
   ]
  },
  {
   "cell_type": "code",
   "execution_count": null,
   "id": "ddff0950",
   "metadata": {},
   "outputs": [],
   "source": [
    "# 9 write a python program to  count the frequency of words in a file\n",
    "file=open(\"C:\\\\sers\\\\alpesh\\\\esktop\\\\ile_handing\\\\A.txt\",\"r\")\n",
    "s=(file.read().split())\n",
    "search_word=input('enter the world')\n",
    "time=0\n",
    "for i in s:\n",
    "    if i== search_word:\n",
    "        time+=1\n",
    "print(f \"this word will found {time}times in file\")\n",
    "file.close()"
   ]
  },
  {
   "cell_type": "code",
   "execution_count": null,
   "id": "c3f74da6",
   "metadata": {},
   "outputs": [],
   "source": [
    "# 10 write a python program to write a list to a file\n",
    "file=open(\"C:\\\\sers\\\\alpesh\\\\esktop\\\\ile_handing\\\\A.txt\",\"w+\")\n",
    "list1=[]\n",
    "for i in range(3):\n",
    "    name=input('enter the name')\n",
    "    list1.append(name+\"\\n\")\n",
    "x=file.writelines(list1)\n",
    "file.seek(0)\n",
    "print(file.readlines())\n",
    "file.close()"
   ]
  },
  {
   "cell_type": "code",
   "execution_count": null,
   "id": "9c38144c",
   "metadata": {},
   "outputs": [],
   "source": [
    "# 11 write a python program to copy the contents of a file to another file\n",
    "file=open(\"C:\\\\sers\\\\alpesh\\\\esktop\\\\ile_handing\\\\A.txt\",\"r\")"
   ]
  },
  {
   "cell_type": "code",
   "execution_count": null,
   "id": "ac750cd8",
   "metadata": {},
   "outputs": [],
   "source": [
    "#  13 explain Exception handing ?what is an eeror in python\n",
    "#when a python script ecounters a situation that it cannot cope with,it raises an exception.An exception is python object that \n",
    "## represents an error.\n",
    "## when a python script raises an exception it must either handle the exception immmediately\n",
    "## otherwise it terminetes and quits\n",
    "## The most common reason of an error in a python program when certain statement is not accordance\n",
    "## with the interpreter immediately reports it usually along with the reason."
   ]
  },
  {
   "cell_type": "code",
   "execution_count": null,
   "id": "72c6f318",
   "metadata": {},
   "outputs": [],
   "source": [
    "# 14 how many except statements can a try -except block ?Name Some\n",
    "## built- in exception classes\n",
    "#NameError \n",
    "#AttributeError\n",
    "#ImportError\n",
    "#KeyError\n",
    "#SyntaxError\n",
    "#TypeError\n",
    "#ZeroDevisionError\n",
    "#ValueError\n"
   ]
  },
  {
   "cell_type": "code",
   "execution_count": null,
   "id": "1e321bb5",
   "metadata": {},
   "outputs": [],
   "source": [
    "# 15 when will the else part of try-except-else be executed?\n",
    "## YES The else part is executed when no exception occurs\n"
   ]
  },
  {
   "cell_type": "code",
   "execution_count": null,
   "id": "1f791a25",
   "metadata": {},
   "outputs": [],
   "source": [
    "# 16 what happens when \"1\"==1 is executed?\n",
    "## it simple evaluates to False and does not raise any exception."
   ]
  },
  {
   "cell_type": "code",
   "execution_count": null,
   "id": "5361670c",
   "metadata": {},
   "outputs": [],
   "source": [
    "# 17 when is the finally block executed?\n",
    "## finally block is always execured.\n"
   ]
  },
  {
   "cell_type": "code",
   "execution_count": null,
   "id": "c54e285f",
   "metadata": {},
   "outputs": [],
   "source": [
    "# 18 can one block of except statements handle multiple exception?\n",
    "## it simply evaluates to False and does not raise any exception"
   ]
  },
  {
   "cell_type": "code",
   "execution_count": 3,
   "id": "d45b72b6",
   "metadata": {},
   "outputs": [
    {
     "name": "stdout",
     "output_type": "stream",
     "text": [
      "enter number under36\n",
      "nothing went wrong\n",
      "the try... except block is finished\n"
     ]
    }
   ],
   "source": [
    "# 19 how do you handle exception with try/except/finally in python\n",
    "#Explain with coding\n",
    "num=int(input('enter number under3'))\n",
    "try:\n",
    "    num>3\n",
    "except:\n",
    "    print('something went wrong')\n",
    "else:\n",
    "    print('nothing went wrong')\n",
    "finally:\n",
    "    print('the try... except block is finished')"
   ]
  },
  {
   "cell_type": "code",
   "execution_count": null,
   "id": "dcfd5074",
   "metadata": {},
   "outputs": [],
   "source": [
    "# 20 write a python program that user to enter only odd number else will raise anexception.\n",
    "user=int(input('enter only odd number'))\n",
    "if user%2==0:\n",
    "    raise ValueError('please enter only odd number')\n",
    "else:\n",
    "    print('your input is still work in progress')"
   ]
  },
  {
   "cell_type": "code",
   "execution_count": null,
   "id": "27a68831",
   "metadata": {},
   "outputs": [],
   "source": [
    "# 21 what are oops concepts? it multiple inheritance supported in java\n",
    "# what are python opps concepts ?major opp (object-oriented programming)\n",
    "# concepts in python inlude class ,object,method inheritance ,polymorphisms,data abstraction,and encapsulation\n",
    "## yes java programming language supports multiple inheritance of type"
   ]
  },
  {
   "cell_type": "code",
   "execution_count": 7,
   "id": "9368471d",
   "metadata": {},
   "outputs": [
    {
     "data": {
      "text/plain": [
       "'sayajirao gaikawad primary school'"
      ]
     },
     "execution_count": 7,
     "metadata": {},
     "output_type": "execute_result"
    }
   ],
   "source": [
    "# 22 how to define a class in python ?what is self? give an example of python class\n",
    "\n",
    "# how to define a class\n",
    "class define():\n",
    "    school_name='sayajirao gaikawad primary school'\n",
    "    def _init_(self,std):\n",
    "        self.std=std\n",
    "s1=define()\n",
    "s1.school_name\n",
    "# what is self\n",
    "# self is parameter, self point the current instance of the class"
   ]
  },
  {
   "cell_type": "code",
   "execution_count": 10,
   "id": "855bcf81",
   "metadata": {},
   "outputs": [
    {
     "data": {
      "text/plain": [
       "576"
      ]
     },
     "execution_count": 10,
     "metadata": {},
     "output_type": "execute_result"
    }
   ],
   "source": [
    "# 23 write a python class named rectangle constructed by a length and width and a method which will \n",
    "# compute the area of reactangle\n",
    "class Reactangle_Construct():\n",
    "    def find_area(self,height,width):\n",
    "        self.area=height*width\n",
    "        return self.area\n",
    "s1=Reactangle_Construct()\n",
    "s1.find_area(12,48)\n"
   ]
  },
  {
   "cell_type": "code",
   "execution_count": 11,
   "id": "c55ce131",
   "metadata": {},
   "outputs": [
    {
     "data": {
      "text/plain": [
       "1164.8"
      ]
     },
     "execution_count": 11,
     "metadata": {},
     "output_type": "execute_result"
    }
   ],
   "source": [
    "#   24 write a python class named circle constructed by a radius and two method which will compute the area and the perimeter of a \n",
    "# circle\n",
    "class circle():\n",
    "    def Find_area(self,redius):\n",
    "        self.area=4*5.20*redius\n",
    "        return self.area\n",
    "s2=circle()\n",
    "s2.Find_area(56)"
   ]
  },
  {
   "cell_type": "code",
   "execution_count": 12,
   "id": "4d1d8c60",
   "metadata": {},
   "outputs": [
    {
     "data": {
      "text/plain": [
       "<bound method Dad.dad_house of <__main__.Son object at 0x0000024AF2232BB0>>"
      ]
     },
     "execution_count": 12,
     "metadata": {},
     "output_type": "execute_result"
    }
   ],
   "source": [
    "# 25 explain inheritance in python with an example?what is init? or what is A constructor in python\n",
    "# it represent real world relationship well\n",
    "# it is provided the reasability of a code, we don't have write  same code again and again also it's\n",
    "#allow us to add more features to  class without modiflyin it.\n",
    "class Dad():\n",
    "    property1='money'\n",
    "    def dad_house(self):\n",
    "        print('this house is your after me')\n",
    "class Son(Dad):\n",
    "    pass\n",
    "s2=Son()\n",
    "s2.dad_house\n",
    "# what is _INIT_?\n",
    "# INIT is a reserved method in python classee it is known constructor\n",
    "# in oop concept this  method called when an object is created from the class and\n",
    "# it allows  the class to initilize the attribute of a class"
   ]
  },
  {
   "cell_type": "code",
   "execution_count": null,
   "id": "6b373b2a",
   "metadata": {},
   "outputs": [],
   "source": [
    "# 26 what is instantiation in tearms of oop terminology?\n",
    "## in oop terminology instantiation means:creating an object/instance/for class\n",
    "# in general instatiation means to start, represent and preeced somethings as."
   ]
  },
  {
   "cell_type": "code",
   "execution_count": 13,
   "id": "b7d5127f",
   "metadata": {},
   "outputs": [
    {
     "name": "stdout",
     "output_type": "stream",
     "text": [
      "True\n"
     ]
    }
   ],
   "source": [
    "# 27 what is used to check whether an object o is an instance of class A?\n",
    "class Student():\n",
    "    school_name='sayajirao gaykawaid primary school'\n",
    "    a=(1,3,4)\n",
    "s3=Student()\n",
    "print(isinstance(s3,Student))\n",
    "## return true if the object is an instance or subclass of a class,or any element of the tuple false otherwise"
   ]
  },
  {
   "cell_type": "code",
   "execution_count": null,
   "id": "b777ecf6",
   "metadata": {},
   "outputs": [],
   "source": []
  }
 ],
 "metadata": {
  "kernelspec": {
   "display_name": "Python 3 (ipykernel)",
   "language": "python",
   "name": "python3"
  },
  "language_info": {
   "codemirror_mode": {
    "name": "ipython",
    "version": 3
   },
   "file_extension": ".py",
   "mimetype": "text/x-python",
   "name": "python",
   "nbconvert_exporter": "python",
   "pygments_lexer": "ipython3",
   "version": "3.9.12"
  }
 },
 "nbformat": 4,
 "nbformat_minor": 5
}
