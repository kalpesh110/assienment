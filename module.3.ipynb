{
 "cells": [
  {
   "cell_type": "code",
   "execution_count": null,
   "id": "f5c649bc",
   "metadata": {},
   "outputs": [],
   "source": [
    "# 1 what is list ? how will you reverse a list\n",
    "# list is collection of different value or different datatype items store in single variable are called as list\n",
    "list1=[12,23.7,'python',(12,34,'hack'),{12,34,56},{'ram':23,'kalpesh':67}]\n",
    "l2=list1[::-1]\n",
    "print(l2)"
   ]
  },
  {
   "cell_type": "code",
   "execution_count": null,
   "id": "d0462ec8",
   "metadata": {},
   "outputs": [],
   "source": [
    "# 2 how will you remove last object from a list\n",
    "l1=['python','hacker','list','tuple',45,23,78,34.5]\n",
    "l1.remove(34.5)\n",
    "print(l1)"
   ]
  },
  {
   "cell_type": "code",
   "execution_count": null,
   "id": "f5507b5d",
   "metadata": {},
   "outputs": [],
   "source": [
    "# 3 suppose list1 is[2,33,222,14,and 25],what is list[-1]\n",
    "list1=[2,33,222,14,25]\n",
    "list2=list1[-1]\n",
    "print(list2)"
   ]
  },
  {
   "cell_type": "code",
   "execution_count": null,
   "id": "722c0981",
   "metadata": {},
   "outputs": [],
   "source": [
    "# 4 diffrentiate between append() and extend()methods?\n",
    "# append(): add a single element to the end of the list \n",
    "# extend(): extend() can add multiple individual to the end of the list\n",
    "# example\n",
    "l1=[12,34,67,89,0,76]\n",
    "l1.append(23)\n",
    "print(l1)\n",
    "l2=[1,2,3,456,78,976]\n",
    "l2.extend('34')\n",
    "print(l2)"
   ]
  },
  {
   "cell_type": "code",
   "execution_count": null,
   "id": "567622b2",
   "metadata": {},
   "outputs": [],
   "source": [
    "# 5 wrie a python function to get the largest number ,smallest num, and sum of all from a list\n",
    "def largest(list1):\n",
    "    a=[]\n",
    "    for i in list1:\n",
    "        a.append(i)\n",
    "        a.sort()\n",
    "    return a[-1]\n",
    "        \n",
    "(largest([12,34,56,23]))\n"
   ]
  },
  {
   "cell_type": "code",
   "execution_count": null,
   "id": "3396267e",
   "metadata": {},
   "outputs": [],
   "source": [
    "# smallest number in list\n",
    "def smallest(list2):\n",
    "    a=[]\n",
    "    for i in list2:\n",
    "        a.append(i)\n",
    "        a.sort()\n",
    "    return a[0]\n",
    "(smallest([12,34,53,67,89]))"
   ]
  },
  {
   "cell_type": "code",
   "execution_count": null,
   "id": "77aae0b6",
   "metadata": {},
   "outputs": [],
   "source": [
    "# sum of all from alist\n",
    "def sum1(list3):\n",
    "    sum1=0\n",
    "    for i in list3:\n",
    "        sum1=sum1+i\n",
    "    return sum1\n",
    "(sum1([1,2,6,4]))"
   ]
  },
  {
   "cell_type": "code",
   "execution_count": null,
   "id": "dec2cd68",
   "metadata": {},
   "outputs": [],
   "source": [
    "# 6 how will you compare two list\n",
    "l1=[1,2,3,4,56]\n",
    "l2=[2,4,1,4,56]\n",
    "if l1==l2:\n",
    "    print('both list are equal')\n",
    "else:\n",
    "    print('both list are not equal')"
   ]
  },
  {
   "cell_type": "code",
   "execution_count": null,
   "id": "7ab588b3",
   "metadata": {},
   "outputs": [],
   "source": [
    "# 7 write a python program to count  the number of string where the string length is 2 or more and the first and\n",
    "# last character are same from a given list os string\n",
    "str1=input('enter the string')\n",
    "val=0\n",
    "for i in str1:\n",
    "    if len(str1)>1 and str1[0]==str1[-1]:\n",
    "        val +=1\n",
    "print('number of character =',val)"
   ]
  },
  {
   "cell_type": "code",
   "execution_count": null,
   "id": "2a8fee48",
   "metadata": {},
   "outputs": [],
   "source": [
    "# 8 write a python program to remove duplicates from a list\n",
    "list1=[12,12,3,4,12,56,4,56,90,54,4,2,2,3,1,345,543]\n",
    "set1=set(list1)\n",
    "rd=list(set1)\n",
    "print(rd)"
   ]
  },
  {
   "cell_type": "code",
   "execution_count": null,
   "id": "d0f0bd53",
   "metadata": {},
   "outputs": [],
   "source": [
    "# 9 write a python program to check a list is empty or not\n",
    "list1=[12]\n",
    "if len(list1)==0:\n",
    "    print('list1 is empty')\n",
    "else:\n",
    "    print('list1 is not empty')\n"
   ]
  },
  {
   "cell_type": "code",
   "execution_count": null,
   "id": "c5aead5e",
   "metadata": {},
   "outputs": [],
   "source": [
    "# 10 write a function that takes two list and returns true if they have at least one common member\n",
    "def compare(l1,l2):\n",
    "    for i in l1:\n",
    "        for j in l2:\n",
    "            if i==j:\n",
    "                return 'true'\n",
    "l1=[1,2,3,4]\n",
    "l2=[9,7,4,3]\n",
    "print(compare(l1,l2))"
   ]
  },
  {
   "cell_type": "code",
   "execution_count": null,
   "id": "fedce672",
   "metadata": {},
   "outputs": [],
   "source": [
    "# 11 write a python program to generate and print a list of list first and last element where values are\n",
    "#square of number between 1 and 30\n",
    "l1=[]\n",
    "for i in range(1,6):\n",
    "    l1.append(i*i)\n",
    "print(l1)\n",
    "l2=[]\n",
    "for i in range(26,31):\n",
    "    l2.append(i*i)\n",
    "print(l2)\n",
    "l3=l1+l2\n",
    "print(l3)"
   ]
  },
  {
   "cell_type": "code",
   "execution_count": null,
   "id": "cc30614d",
   "metadata": {},
   "outputs": [],
   "source": [
    "#  12 write a python function that takes a list and returns a new list with unique elements of the first list\n",
    "list1=[1,2,3,2,23,4,5,4,5,6]\n",
    "list2=[]\n",
    "for i in list1:\n",
    "    if i not in list2:\n",
    "        list2.append(i)\n",
    "print(list2)"
   ]
  },
  {
   "cell_type": "code",
   "execution_count": null,
   "id": "f227c58f",
   "metadata": {},
   "outputs": [],
   "source": [
    "# 13 write a program to convert a list  of  character into string\n",
    "l1=['k','a','l','p','e','s','h']\n",
    "l2=''.join(l1)\n",
    "print(l2)"
   ]
  },
  {
   "cell_type": "code",
   "execution_count": null,
   "id": "34fc46d1",
   "metadata": {},
   "outputs": [],
   "source": [
    "#  14 write a python program to select an item randomly from a list\n",
    "import random\n",
    "list1=['kalpesh','python','89',90,(12,345,'music')]\n",
    "print(random.choice(list1))"
   ]
  },
  {
   "cell_type": "code",
   "execution_count": null,
   "id": "25b7fca1",
   "metadata": {},
   "outputs": [],
   "source": [
    "#### 15 write a python program to find the second smallest number in list\n",
    "a=[]\n",
    "size=int(input('enter the size of list'))\n",
    "for i in range(size):\n",
    "    val=int(input('enter the number'))\n",
    "    a.append(val)\n",
    "    a.sort()\n",
    "print('smallest number in list','=',a[0])\n",
    "print('second smallest number in list',a[1])\n",
    "    \n",
    "    "
   ]
  },
  {
   "cell_type": "code",
   "execution_count": null,
   "id": "24c6a0dc",
   "metadata": {},
   "outputs": [],
   "source": [
    "#  16 write a python program to get unique values from a list\n",
    "list1=[1,2,3,2,67,76,67,7,8,98,98]\n",
    "list2=[]\n",
    "for i in list1:\n",
    "    if i not in list2:\n",
    "        list2.append(i)\n",
    "print(list2)"
   ]
  },
  {
   "cell_type": "code",
   "execution_count": null,
   "id": "44cae3ec",
   "metadata": {},
   "outputs": [],
   "source": [
    "# 17 write a python program to check whether a list contains a sub list\n",
    "list1=[1,3,4,6,78,56,4,5,90]\n",
    "sub_list1=[1,56,4,5,90]\n",
    "sub_idx=list1.index(sub_list1[0])\n",
    "if list1[sub_idx:sub_idx+len(sub_list1)]==sub_list1:\n",
    "    print('it is exist')\n",
    "else:\n",
    "    print('not exist')"
   ]
  },
  {
   "cell_type": "code",
   "execution_count": null,
   "id": "2a374a4a",
   "metadata": {},
   "outputs": [],
   "source": [
    "# 18 write a python program to split a list into different variables\n",
    "list1=[1,2,3,4,5]\n",
    "l1=list1[0]\n",
    "l2=list1[3]\n",
    "l4=list1[2]\n",
    "print(l1)\n",
    "print(l2)\n",
    "print(l4)"
   ]
  },
  {
   "cell_type": "code",
   "execution_count": null,
   "id": "1a394b23",
   "metadata": {},
   "outputs": [],
   "source": [
    "# 19 what is tuple ? different between list and tuple\n",
    "# tuple: tuple is collection of different values or diffrent datatype of values store in single variable\n",
    "# is called as tuple\n",
    "# list and tuple is similar but list is mutable and tuple is immutable\n",
    "# list assien by=[] and tuple is assien by =()"
   ]
  },
  {
   "cell_type": "code",
   "execution_count": null,
   "id": "b1ec2443",
   "metadata": {},
   "outputs": [],
   "source": [
    "# 20 write a python program to create a tuple with different data types\n",
    "t1=(1,23.34,'study',[12.3421,1,5,7,'karan'],{123,453,4,3},True,0,{1:23,'marks':67,45:23},(1,34,67,8))\n",
    "print(t1)"
   ]
  },
  {
   "cell_type": "code",
   "execution_count": null,
   "id": "f9bbafd0",
   "metadata": {},
   "outputs": [],
   "source": [
    "# 21 write a python program to create a tuple with numbers.\n",
    "t2=34,35,235,687,345,345\n",
    "print(t2)\n",
    "type(t2)"
   ]
  },
  {
   "cell_type": "code",
   "execution_count": null,
   "id": "a120c4c5",
   "metadata": {},
   "outputs": [],
   "source": [
    "# 22 write a python program to convert a tuple to a string\n",
    "t2=('k','a','l','p','e','s','h')\n",
    "t3=''.join(t2)\n",
    "print(t3)"
   ]
  },
  {
   "cell_type": "code",
   "execution_count": null,
   "id": "e08caefc",
   "metadata": {},
   "outputs": [],
   "source": [
    "# 23 write a python program to check whether an element exist within a tuple\n",
    "t3=(12,24,13,13,45)\n",
    "element=(24)\n",
    "if element in t3:\n",
    "    print('element is exist in tuple')\n",
    "else:\n",
    "    print('element does not exist in tuple')\n"
   ]
  },
  {
   "cell_type": "code",
   "execution_count": null,
   "id": "ba695047",
   "metadata": {},
   "outputs": [],
   "source": [
    "# 24 wtite a python program to find the length of a tuple\n",
    "t3=(12,345,245,1234,5777,4567,'tuple','list',(12345,7654,245,78,466),{12334,566,22,556})\n",
    "print(len(t3))"
   ]
  },
  {
   "cell_type": "code",
   "execution_count": null,
   "id": "1b7ad60e",
   "metadata": {},
   "outputs": [],
   "source": [
    "# 25 write a python program to convert a list to a tuple\n",
    "l2=[12,45,62,657,234,578]\n",
    "t1=tuple(l2)\n",
    "print(t1)"
   ]
  },
  {
   "cell_type": "code",
   "execution_count": null,
   "id": "33b8fb32",
   "metadata": {},
   "outputs": [],
   "source": [
    "# 26 write a python program to reverse a tuple\n",
    "# sample tuple:(13,355,2456,466)\n",
    "# output:(466,2456,355,13)\n",
    "t1=(13,355,2456,466,3509,45,345,67,'kalpesh',{12,4356},(12,424,57),{1:23,'buy':78,'loss':67})\n",
    "t2=list(t1)\n",
    "t2.reverse()\n",
    "t3=tuple(t2)\n",
    "print(t3)"
   ]
  },
  {
   "cell_type": "code",
   "execution_count": null,
   "id": "b16de18c",
   "metadata": {},
   "outputs": [],
   "source": [
    "# 27 write a python program to replace last value of tuples in a list\n",
    "t2=[(12,23,4567,56),(12,4354,678,89)]\n",
    "for i in t2:\n",
    "    print(i[:-1]+(123,))"
   ]
  },
  {
   "cell_type": "code",
   "execution_count": 14,
   "id": "7769a2a3",
   "metadata": {},
   "outputs": [],
   "source": [
    "# 28 write a python program to find the repeated last value of tuples in a list\n",
    "tuple1=(12,32,23,12,32,25,24,42,25,25)\n",
    "t2=()\n",
    "for i in tuple1:\n",
    "    if tuple1.count(i)>1:\n",
    "        continue\n",
    "        print(i)\n"
   ]
  },
  {
   "cell_type": "code",
   "execution_count": 15,
   "id": "e3c91e21",
   "metadata": {},
   "outputs": [
    {
     "name": "stdout",
     "output_type": "stream",
     "text": [
      "[12, 23, (12, 23, 43), 23.23, 23, 23]\n"
     ]
    }
   ],
   "source": [
    "# 28 write a python program to remove an empty tuple(s) from a list of tuples\n",
    "tuple1=[12,23,(),(12,23,43),(),23.23,(),23,23]\n",
    "val=[t for t in tuple1 if t]\n",
    "print(val)"
   ]
  },
  {
   "cell_type": "code",
   "execution_count": 17,
   "id": "8565127a",
   "metadata": {},
   "outputs": [
    {
     "name": "stdout",
     "output_type": "stream",
     "text": [
      "[21, 12, 25]\n"
     ]
    }
   ],
   "source": [
    "# 29 write a python to unzip a list of tuples into individual lists.\n",
    "tuple2=[(25,),(67,),(21,12,25),(2,3,4),23.23]\n",
    "(t1,t2,t3,t4,t5)=tuple2\n",
    "t1=list(t1)\n",
    "t3=list(t3)\n",
    "print(t3)"
   ]
  },
  {
   "cell_type": "code",
   "execution_count": 23,
   "id": "93f13507",
   "metadata": {},
   "outputs": [
    {
     "name": "stdout",
     "output_type": "stream",
     "text": [
      "{45: 'rohit', 18: 'virat', 7: 'dhoni', 'abd': 17, 'raina': 3}\n"
     ]
    }
   ],
   "source": [
    "# 30 write a python program to convert a list of tuples into a dictionary\n",
    "list1=[(45,'rohit'),(18,'virat'),(7,'dhoni'),('abd',17),('raina',3)]\n",
    "dict1=dict(list1)\n",
    "print(dict1)"
   ]
  },
  {
   "cell_type": "code",
   "execution_count": 21,
   "id": "5336ff29",
   "metadata": {},
   "outputs": [
    {
     "name": "stdout",
     "output_type": "stream",
     "text": [
      "{45: 'rohit', 18: 'virat', 7: 'dhoni', 'abd': 17, 'raina': 3}\n"
     ]
    }
   ],
   "source": [
    "# 31 how will you create a dictionary using tuple in python\n",
    "tuple1=((45,'rohit'),(18,'virat'),(7,'dhoni'),('abd',17),('raina',3))\n",
    "\n",
    "print(dict(tuple1))"
   ]
  },
  {
   "cell_type": "code",
   "execution_count": 25,
   "id": "4d494442",
   "metadata": {},
   "outputs": [
    {
     "name": "stdout",
     "output_type": "stream",
     "text": [
      "{'python': 13, 'java': 15, 'vb.net': 23, 'javascript': 48, 'php': 60}\n"
     ]
    }
   ],
   "source": [
    "# 32 write a python script to sort (ascending) a dictionary by values\n",
    "d1={'python':13,'java':15,'php':60,'vb.net':23,'javascript':48}\n",
    "res={k:v for k,v in sorted(d1.items(),key=lambda v:v[1])}\n",
    "print(res)"
   ]
  },
  {
   "cell_type": "code",
   "execution_count": 26,
   "id": "22698874",
   "metadata": {},
   "outputs": [
    {
     "name": "stdout",
     "output_type": "stream",
     "text": [
      "{'php': 60, 'javascript': 48, 'vb.net': 23, 'java': 15, 'python': 13}\n"
     ]
    }
   ],
   "source": [
    "## 32 write a python script to sort (descending) a dictionary by values\n",
    "d1={'python':13,'java':15,'php':60,'vb.net':23,'javascript':48}\n",
    "res={k:v for k,v in sorted(d1.items(),key=lambda v:v[1],reverse=True)}\n",
    "print(res)"
   ]
  },
  {
   "cell_type": "code",
   "execution_count": 27,
   "id": "c15f607b",
   "metadata": {},
   "outputs": [
    {
     "name": "stdout",
     "output_type": "stream",
     "text": [
      "{45: 45, 18: 'virat', '.net': 123, 'php': 321, 'rohit': 'rohit', 'virat': 'virat'}\n"
     ]
    }
   ],
   "source": [
    "#  33 write a python script to concatenate following dictionaries to create a new one\n",
    "dict1={45:'rohit',18:'virat'}\n",
    "dict2={'.net':123,'php':321}\n",
    "dict3={45:45,'rohit':'rohit','virat':'virat'}\n",
    "dict4={}\n",
    "for i in (dict1,dict2,dict3):\n",
    "    dict4.update(i)\n",
    "print(dict4)"
   ]
  },
  {
   "cell_type": "code",
   "execution_count": 35,
   "id": "c620df26",
   "metadata": {},
   "outputs": [
    {
     "name": "stdout",
     "output_type": "stream",
     "text": [
      "enter the keysk\n",
      "key present in dict. value= 34\n"
     ]
    }
   ],
   "source": [
    "# 34 how do you check presence of a  key in a dictionary\n",
    "d={'k':34,'a':78,'l':89,'p':56,'e':90,'s':56,'h':87}\n",
    "key=(input('enter the keys'))\n",
    "if key in d:\n",
    "    print('key present in dict.' ,'value=',d[key])\n",
    "else:\n",
    "    print('key not present in dict')"
   ]
  },
  {
   "cell_type": "code",
   "execution_count": 36,
   "id": "525cb0ab",
   "metadata": {},
   "outputs": [
    {
     "name": "stdout",
     "output_type": "stream",
     "text": [
      "p 25\n",
      "y 30\n",
      "t 70\n",
      "h 43\n",
      "o 12\n",
      "n 27\n"
     ]
    }
   ],
   "source": [
    "# 35 how do you traverse through a dictiionaty object in python\n",
    "dict2={'p':25,'y':30,'t':70,'h':43,'o':12,'n':27}\n",
    "for i in dict2:\n",
    "    print(i,dict2[i])\n"
   ]
  },
  {
   "cell_type": "code",
   "execution_count": 38,
   "id": "3955a8fc",
   "metadata": {},
   "outputs": [
    {
     "name": "stdout",
     "output_type": "stream",
     "text": [
      "enter the keys4\n",
      "key present in dict\n"
     ]
    }
   ],
   "source": [
    "# 36 write a python script to check a given key already exist in adictionary\n",
    "d={1:10,2:20,3:30,4:45,6:67,8:90}\n",
    "key=int(input('enter the keys'))\n",
    "if key in d:\n",
    "    print('key present in dict')\n",
    "else:\n",
    "    print('key not present in dict')"
   ]
  },
  {
   "cell_type": "code",
   "execution_count": 6,
   "id": "515438d4",
   "metadata": {},
   "outputs": [
    {
     "name": "stdout",
     "output_type": "stream",
     "text": [
      "{1: 3, 2: 4, 3: 5, 4: 6, 5: 7, 6: 8, 7: 9, 8: 10, 9: 11, 10: 12, 11: 13, 12: 14, 13: 15, 14: 16, 15: 17}\n"
     ]
    }
   ],
   "source": [
    "# 37 writea python script to print a dictionary where the keys are numbers between 1 and 15\n",
    "d=dict()\n",
    "for i in range(1,16):\n",
    "    d[i]=i+2\n",
    "print(d)"
   ]
  },
  {
   "cell_type": "code",
   "execution_count": 4,
   "id": "48de5be3",
   "metadata": {},
   "outputs": [
    {
     "name": "stdout",
     "output_type": "stream",
     "text": [
      "false\n"
     ]
    }
   ],
   "source": [
    "# 38 Write a Python program to check multiple keys exists in a dictionary.\n",
    "dict1={'module':1,'module2':2,'keys':5,'tuple':4,'list':3,'vivek':24}\n",
    "s1={'module','module2','sun'}\n",
    "if dict1.keys()>=s1:\n",
    "    print('true')\n",
    "else:\n",
    "    print('false')"
   ]
  },
  {
   "cell_type": "code",
   "execution_count": 10,
   "id": "2af703df",
   "metadata": {},
   "outputs": [
    {
     "name": "stdout",
     "output_type": "stream",
     "text": [
      "{'one': 100, 'two': 45, 'three': 78, 'four': 34, 'five': 23}\n"
     ]
    }
   ],
   "source": [
    "# 39 Write a Python program to map two lists into a dictionary.\n",
    "dict1=['one','two','three','four','five']\n",
    "dict2=[100,45,78,34,23]\n",
    "Dict=dict(zip(dict1,dict2))\n",
    "print(Dict)"
   ]
  },
  {
   "cell_type": "code",
   "execution_count": 12,
   "id": "0de301f4",
   "metadata": {},
   "outputs": [
    {
     "name": "stdout",
     "output_type": "stream",
     "text": [
      "{'a': 400, 'b': 400, 'd': 400, 'c': 300}\n"
     ]
    }
   ],
   "source": [
    "\n",
    "# 40 Write a Python program to combine two dictionary adding values for common keys.\n",
    "d1 = {'a': 100, 'b': 200, 'c':300}\n",
    "d2 = {'a': 300, 'b': 200,'d':400}\n",
    "for i in d1:\n",
    "    if i in d2:\n",
    "        d2[i]=d1[i]+d2[i]\n",
    "    else:\n",
    "        d2[i]=d1[i]\n",
    "print(d2,)"
   ]
  },
  {
   "cell_type": "code",
   "execution_count": 13,
   "id": "af763cc6",
   "metadata": {},
   "outputs": [
    {
     "name": "stdout",
     "output_type": "stream",
     "text": [
      "{'a': 12, 'b': 23, 'c': 21, 'd': 43}\n"
     ]
    }
   ],
   "source": [
    "#  41 Why Do You Use the Zip () Method in Python ?\n",
    "# zip() function creates an iterator that will aggregate elements from two or more iterables.\n",
    "l1=['a','b','c','d']\n",
    "l2=[12,23,21,43]\n",
    "print(dict(zip(l1,l2)))"
   ]
  },
  {
   "cell_type": "code",
   "execution_count": 14,
   "id": "8ec01bb7",
   "metadata": {},
   "outputs": [
    {
     "name": "stdout",
     "output_type": "stream",
     "text": [
      "{'a': 100, 'b': 200, 'c': 400, 'i': 300, 'j': 200, 'k': 500}\n"
     ]
    }
   ],
   "source": [
    "#  42 Write a Python script to merge two Python dictionaries.\n",
    "dict1 = {'a': 100, 'b': 200,'c':400}\n",
    "dict2 = {'i': 300, 'j': 200,'k':500}\n",
    "Dict=dict1.copy()\n",
    "Dict.update(dict2)\n",
    "print(Dict)"
   ]
  },
  {
   "cell_type": "code",
   "execution_count": 15,
   "id": "3093477b",
   "metadata": {},
   "outputs": [
    {
     "name": "stdout",
     "output_type": "stream",
     "text": [
      "ac\n",
      "ad\n",
      "bc\n",
      "bd\n"
     ]
    }
   ],
   "source": [
    "#  43 Write a Python program to create and display all combinations of letters,\n",
    "# selecting each letter from a different key in a dictionary.\n",
    "# Sample data: {'1': ['a','b'], '2': ['c','d']}\n",
    "# Expected Output:\n",
    "# ac ad bc bd\n",
    "a={'1':['a','b'], '2':['c','d']}\n",
    "d=list(a.values())\n",
    "# print(d)\n",
    "for i in d[0]:\n",
    "    for j in d[1]:\n",
    "        print(i+j)"
   ]
  },
  {
   "cell_type": "code",
   "execution_count": 3,
   "id": "33d76ad5",
   "metadata": {},
   "outputs": [
    {
     "name": "stdout",
     "output_type": "stream",
     "text": [
      "{'t': 342, 'co': 453, 'w': 456}\n"
     ]
    }
   ],
   "source": [
    "#  44 Write a Python program to find the highest 3 values in a dictionary.\n",
    "d1={'w':456,'t':342,'co':453,'ee':216,'l':25,'b':75}\n",
    "w= sorted(d1.items(),key=lambda v:v[1])\n",
    "re={k:v for k,v in w}\n",
    "j=list(res.items())\n",
    "w=j[-3:]\n",
    "print(dict(w))"
   ]
  },
  {
   "cell_type": "code",
   "execution_count": 4,
   "id": "daff12d6",
   "metadata": {},
   "outputs": [
    {
     "name": "stdout",
     "output_type": "stream",
     "text": [
      "{'item1': 1262}\n"
     ]
    }
   ],
   "source": [
    "#  45 Write a Python program to combine values in python list of dictionaries. \n",
    "# Sample data: [{'item': 'item1', 'amount': 400}, {'item': 'item2', 'amount': 300}, {'item': 'item1', 'amount': 750}]\n",
    "# Expected Output: Counter ({'item1': 1150, 'item2': 300})\n",
    "dict1=[{'item': 'item1', 'amount': 400,'amount':212}, {'item': 'item1', 'amount': 300}, {'item': 'item1', 'amount': 750}]    \n",
    "dict2={}\n",
    "for i in dict1:\n",
    "    if i['item'] not in dict2:\n",
    "        dict2[i['item']]=i['amount']\n",
    "\n",
    "    else:\n",
    "        dict2[i['item']]+=i['amount']\n",
    "print(dict2)"
   ]
  },
  {
   "cell_type": "code",
   "execution_count": 5,
   "id": "71e14bf0",
   "metadata": {},
   "outputs": [
    {
     "name": "stdout",
     "output_type": "stream",
     "text": [
      "{'3': 1, 'c': 1, 'e': 2, 'o': 1, 'r': 2, 's': 1, 'u': 1, 'w': 1}\n"
     ]
    }
   ],
   "source": [
    "#  46 Write a Python program to create a dictionary from a string.\n",
    "# Note: Track the count of the letters from the string. Sample string:'w3resource'\n",
    "# Expected output: {'3': 1,’s’: 1, 'r': 2, 'u': 1, 'w': 1, 'c': 1, 'e': 2, 'o': 1}\n",
    "s='w3resource'\n",
    "d1={}\n",
    "for c in s:\n",
    "    if c in d1:\n",
    "        d1[c]=d1[c]+1\n",
    "    else:\n",
    "        d1[c]=1\n",
    "w={k: v for k, v in sorted(d1.items())}\n",
    "print(w)"
   ]
  },
  {
   "cell_type": "code",
   "execution_count": 6,
   "id": "7d4d9389",
   "metadata": {},
   "outputs": [
    {
     "name": "stdout",
     "output_type": "stream",
     "text": [
      "120\n"
     ]
    }
   ],
   "source": [
    "#  47 Write a Python function to calculate the factorial of a number (a non-negative integer).\n",
    "def som(num):\n",
    "    if num>1:\n",
    "        return num*som(num-1)\n",
    "    else:\n",
    "        return num\n",
    "print(som(5))"
   ]
  },
  {
   "cell_type": "code",
   "execution_count": 7,
   "id": "85d23c2b",
   "metadata": {},
   "outputs": [
    {
     "name": "stdout",
     "output_type": "stream",
     "text": [
      "5 is given the range\n"
     ]
    }
   ],
   "source": [
    "# 48 Write a Python function to check whether a number is in a given range.\n",
    "def num(n):\n",
    "    if n in range(1,9):\n",
    "        return print('%s is given the range'%str(n))\n",
    "    else:\n",
    "        print('no')\n",
    "num(5)"
   ]
  },
  {
   "cell_type": "code",
   "execution_count": 9,
   "id": "ad9db524",
   "metadata": {},
   "outputs": [
    {
     "name": "stdout",
     "output_type": "stream",
     "text": [
      "enter the number:6\n",
      "6 is perfect number\n"
     ]
    }
   ],
   "source": [
    "# 49 Write a Python function to check whether a number is perfect or not.\n",
    "n=int(input('enter the number:'))     # \n",
    "sum = 0                               \n",
    "for x in range(1, n):\n",
    "    if n % x == 0:\n",
    "        sum += x\n",
    "\n",
    "if sum==n:\n",
    "    print( n,'is perfect number')\n",
    "else:\n",
    "    print(n,'not perfect number')"
   ]
  },
  {
   "cell_type": "code",
   "execution_count": 10,
   "id": "6fd4db59",
   "metadata": {},
   "outputs": [
    {
     "name": "stdout",
     "output_type": "stream",
     "text": [
      "no\n"
     ]
    }
   ],
   "source": [
    "# 50 Write a Python function that checks whether a passed string is palindrome or not.\n",
    "# find reverse a string.\n",
    "# check the original string and the reverse string are same or not.\n",
    "def pa(n):\n",
    "    return n==n[::-1]\n",
    "s=\"python\"    \n",
    "w=pa(s)\n",
    "if w:\n",
    "    print(\"yes\")\n",
    "else:\n",
    "    print('no')"
   ]
  },
  {
   "cell_type": "code",
   "execution_count": 13,
   "id": "f36c0aa6",
   "metadata": {},
   "outputs": [
    {
     "name": "stdout",
     "output_type": "stream",
     "text": [
      "25\n"
     ]
    }
   ],
   "source": [
    "#  51 What is lambda function in python? What we call a function which is incomplete version of a function?\n",
    "\n",
    "\n",
    "# Lambda Function, also referred to as ‘Anonymous function’ is same as a regular python function but can be \n",
    "# defined without a name.\n",
    "# because they are handy and short.\n",
    "# single expression, can be multiple parameters.\n",
    "\n",
    "var=lambda a,b:a+b\n",
    "d=var(23,2)\n",
    "print(d)"
   ]
  },
  {
   "cell_type": "code",
   "execution_count": null,
   "id": "f077cb41",
   "metadata": {},
   "outputs": [],
   "source": [
    "#  52 How Many Basic Types Of Functions Are Available In Python?\n",
    "# there are three basic type of function.\n",
    "# 1.built-in function :- print(),type(),len(),all(),any(),filter(),eval() and enumerate()\n",
    "# 2.user define function :- define the user\n",
    "# 3.anonymous function :- lambda function"
   ]
  },
  {
   "cell_type": "code",
   "execution_count": 15,
   "id": "726b308e",
   "metadata": {},
   "outputs": [
    {
     "name": "stdout",
     "output_type": "stream",
     "text": [
      "problem\n"
     ]
    }
   ],
   "source": [
    "#  53 How can you pick a random item from a list or tuple?\n",
    "list1=[1232,'problem','delete',2345,78.90]\n",
    "import random\n",
    "c=random.choice(list1)\n",
    "print(c)"
   ]
  },
  {
   "cell_type": "code",
   "execution_count": 1,
   "id": "ee9a81b6",
   "metadata": {},
   "outputs": [
    {
     "name": "stdout",
     "output_type": "stream",
     "text": [
      "0.8253218219817087\n"
     ]
    }
   ],
   "source": [
    "#  54 How can you get a random number in python?\n",
    "import random\n",
    "s=random.random()\n",
    "print(s)"
   ]
  },
  {
   "cell_type": "code",
   "execution_count": 2,
   "id": "db198de7",
   "metadata": {},
   "outputs": [
    {
     "name": "stdout",
     "output_type": "stream",
     "text": [
      "865\n"
     ]
    }
   ],
   "source": [
    "#  55 How will you set the starting value in generating random numbers?\n",
    "import random\n",
    "for i in range(5):\n",
    "    random.seed(0)\n",
    "print(random.randint(1,1000))"
   ]
  },
  {
   "cell_type": "code",
   "execution_count": 18,
   "id": "922e07a2",
   "metadata": {},
   "outputs": [
    {
     "name": "stdout",
     "output_type": "stream",
     "text": [
      "[4, 22, 3, 3.4, -768]\n"
     ]
    }
   ],
   "source": [
    "#  56 How will you randomizes the items of a list in place?\n",
    "list1 = [3,22,4,-768,3.4]\n",
    "import random\n",
    "random.shuffle(list1)\n",
    "print(list1)"
   ]
  },
  {
   "cell_type": "code",
   "execution_count": 21,
   "id": "3038cf6a",
   "metadata": {},
   "outputs": [
    {
     "name": "stdout",
     "output_type": "stream",
     "text": [
      "enter the degree:45\n",
      "the radian is = 0.7850000000000001\n"
     ]
    }
   ],
   "source": [
    "#  57 Write a Python program to convert degree to radian.\n",
    "degree=float(input('enter the degree:'))\n",
    "pi=3.14\n",
    "radian=degree*(pi/180)\n",
    "print('the radian is =',radian)"
   ]
  },
  {
   "cell_type": "code",
   "execution_count": 24,
   "id": "555e3105",
   "metadata": {},
   "outputs": [
    {
     "name": "stdout",
     "output_type": "stream",
     "text": [
      "enter the first base:5\n",
      "enter the second base:6\n",
      "enter the height:7\n",
      "area of trapezoid= 38.5\n"
     ]
    }
   ],
   "source": [
    "#  58 Write a Python program to calculate the area of a trapezoid.\n",
    "k=float(input('enter the first base:'))\n",
    "m=float(input('enter the second base:'))\n",
    "height=float(input('enter the height:'))     \n",
    "area=((k+m)/2)*height                         \n",
    "print('area of trapezoid=',area)"
   ]
  },
  {
   "cell_type": "code",
   "execution_count": 23,
   "id": "770acd68",
   "metadata": {},
   "outputs": [
    {
     "name": "stdout",
     "output_type": "stream",
     "text": [
      "enter the base:3\n",
      "enter the height:4\n",
      "area of parallelogram= 12.0\n"
     ]
    }
   ],
   "source": [
    "#  59 Write a Python program to calculate the area of a parallelogram.\n",
    "# area=A=h*b\n",
    "base=float(input('enter the base:'))\n",
    "height=float(input('enter the height:'))\n",
    "area=base*height\n",
    "print('area of parallelogram=',area)"
   ]
  },
  {
   "cell_type": "code",
   "execution_count": 25,
   "id": "7c7e3140",
   "metadata": {},
   "outputs": [
    {
     "name": "stdout",
     "output_type": "stream",
     "text": [
      "enter the radius:4\n",
      "enter the height:6\n",
      "area of cylinder= 251.28\n",
      "volume of cylinder= 301.536\n"
     ]
    }
   ],
   "source": [
    "#  60 Write a Python program to calculate surface volume and area of a cylinder,\n",
    "# area of cylinder=A=(2*pi*r*h)+(2*pi*r*r)\n",
    "# surface volume of cylinder=pi*r*r*h\n",
    "pi=3.141\n",
    "radius=float(input('enter the radius:'))\n",
    "height=float(input('enter the height:'))\n",
    "A=(2*pi*radius*height)+(2*pi*radius*radius)\n",
    "V=pi*radius*radius*height\n",
    "print('area of cylinder=',A)\n",
    "print('volume of cylinder=',V)"
   ]
  },
  {
   "cell_type": "code",
   "execution_count": 3,
   "id": "663bd923",
   "metadata": {},
   "outputs": [
    {
     "name": "stdout",
     "output_type": "stream",
     "text": [
      "enter the number:56\n",
      "the sum of divisors = 64\n"
     ]
    }
   ],
   "source": [
    "#  61 Write a Python program to returns sum of all divisors of a number.\n",
    "number=int(input('enter the number:'))\n",
    "divisors=[1]\n",
    "for ele in range(2,number):\n",
    "    if (number%ele)==0:\n",
    "        divisors.append(ele)\n",
    "sum_of_divisors=sum(divisors)\n",
    "print('the sum of divisors = %s'%sum_of_divisors)"
   ]
  },
  {
   "cell_type": "code",
   "execution_count": 27,
   "id": "02aaea0e",
   "metadata": {},
   "outputs": [
    {
     "name": "stdout",
     "output_type": "stream",
     "text": [
      "0.04\n",
      "7.25\n"
     ]
    }
   ],
   "source": [
    "#  62 Write a Python program to find the maximum and minimum numbers from the specified decimal numbers.\n",
    "list_number=[2.45 ,2.69 ,2.45 ,3.45 ,2.00 ,0.04 ,7.25]\n",
    "print(min(list_number))\n",
    "print(max(list_number))"
   ]
  }
 ],
 "metadata": {
  "kernelspec": {
   "display_name": "Python 3 (ipykernel)",
   "language": "python",
   "name": "python3"
  },
  "language_info": {
   "codemirror_mode": {
    "name": "ipython",
    "version": 3
   },
   "file_extension": ".py",
   "mimetype": "text/x-python",
   "name": "python",
   "nbconvert_exporter": "python",
   "pygments_lexer": "ipython3",
   "version": "3.9.12"
  }
 },
 "nbformat": 4,
 "nbformat_minor": 5
}
